{
 "cells": [
  {
   "cell_type": "code",
   "execution_count": 1,
   "metadata": {
    "scrolled": true
   },
   "outputs": [],
   "source": [
    "import pandas as pd\n",
    "import numpy as np\n",
    "import seaborn as sns\n",
    "import matplotlib.pyplot as plt"
   ]
  },
  {
   "cell_type": "code",
   "execution_count": 2,
   "metadata": {
    "scrolled": true
   },
   "outputs": [
    {
     "data": {
      "text/html": [
       "<div>\n",
       "<style scoped>\n",
       "    .dataframe tbody tr th:only-of-type {\n",
       "        vertical-align: middle;\n",
       "    }\n",
       "\n",
       "    .dataframe tbody tr th {\n",
       "        vertical-align: top;\n",
       "    }\n",
       "\n",
       "    .dataframe thead th {\n",
       "        text-align: right;\n",
       "    }\n",
       "</style>\n",
       "<table border=\"1\" class=\"dataframe\">\n",
       "  <thead>\n",
       "    <tr style=\"text-align: right;\">\n",
       "      <th></th>\n",
       "      <th>DRG Definition</th>\n",
       "      <th>Provider Id</th>\n",
       "      <th>Total Discharges</th>\n",
       "      <th>Average Covered Charges</th>\n",
       "      <th>Average Total Payments</th>\n",
       "      <th>Average Medicare Payments</th>\n",
       "    </tr>\n",
       "  </thead>\n",
       "  <tbody>\n",
       "    <tr>\n",
       "      <th>0</th>\n",
       "      <td>023 - CRANIOTOMY W MAJOR DEVICE IMPLANT OR ACU...</td>\n",
       "      <td>10001</td>\n",
       "      <td>28</td>\n",
       "      <td>117117.78570</td>\n",
       "      <td>25823.71429</td>\n",
       "      <td>24057.392860</td>\n",
       "    </tr>\n",
       "    <tr>\n",
       "      <th>1</th>\n",
       "      <td>025 - CRANIOTOMY &amp; ENDOVASCULAR INTRACRANIAL P...</td>\n",
       "      <td>10001</td>\n",
       "      <td>32</td>\n",
       "      <td>98357.56250</td>\n",
       "      <td>20688.34375</td>\n",
       "      <td>19791.406250</td>\n",
       "    </tr>\n",
       "    <tr>\n",
       "      <th>2</th>\n",
       "      <td>027 - CRANIOTOMY &amp; ENDOVASCULAR INTRACRANIAL P...</td>\n",
       "      <td>10001</td>\n",
       "      <td>11</td>\n",
       "      <td>69153.54546</td>\n",
       "      <td>11811.18182</td>\n",
       "      <td>8194.363636</td>\n",
       "    </tr>\n",
       "    <tr>\n",
       "      <th>3</th>\n",
       "      <td>037 - EXTRACRANIAL PROCEDURES W MCC</td>\n",
       "      <td>10001</td>\n",
       "      <td>12</td>\n",
       "      <td>100427.33330</td>\n",
       "      <td>19134.00000</td>\n",
       "      <td>18154.000000</td>\n",
       "    </tr>\n",
       "  </tbody>\n",
       "</table>\n",
       "</div>"
      ],
      "text/plain": [
       "                                      DRG Definition  Provider Id  \\\n",
       "0  023 - CRANIOTOMY W MAJOR DEVICE IMPLANT OR ACU...        10001   \n",
       "1  025 - CRANIOTOMY & ENDOVASCULAR INTRACRANIAL P...        10001   \n",
       "2  027 - CRANIOTOMY & ENDOVASCULAR INTRACRANIAL P...        10001   \n",
       "3                037 - EXTRACRANIAL PROCEDURES W MCC        10001   \n",
       "\n",
       "   Total Discharges  Average Covered Charges  Average Total Payments  \\\n",
       "0                28             117117.78570             25823.71429   \n",
       "1                32              98357.56250             20688.34375   \n",
       "2                11              69153.54546             11811.18182   \n",
       "3                12             100427.33330             19134.00000   \n",
       "\n",
       "   Average Medicare Payments  \n",
       "0               24057.392860  \n",
       "1               19791.406250  \n",
       "2                8194.363636  \n",
       "3               18154.000000  "
      ]
     },
     "execution_count": 2,
     "metadata": {},
     "output_type": "execute_result"
    }
   ],
   "source": [
    "data1 = pd.read_excel(r'C:\\Users\\Sourav\\OneDrive\\Desktop\\Healthcare Data Analysis project/Medicare Inpatient 2017.xlsx',sheet_name = 'Medicare Inpatient 2017')\n",
    "data1.head(4)"
   ]
  },
  {
   "cell_type": "code",
   "execution_count": 3,
   "metadata": {
    "scrolled": false
   },
   "outputs": [
    {
     "data": {
      "text/html": [
       "<div>\n",
       "<style scoped>\n",
       "    .dataframe tbody tr th:only-of-type {\n",
       "        vertical-align: middle;\n",
       "    }\n",
       "\n",
       "    .dataframe tbody tr th {\n",
       "        vertical-align: top;\n",
       "    }\n",
       "\n",
       "    .dataframe thead th {\n",
       "        text-align: right;\n",
       "    }\n",
       "</style>\n",
       "<table border=\"1\" class=\"dataframe\">\n",
       "  <thead>\n",
       "    <tr style=\"text-align: right;\">\n",
       "      <th></th>\n",
       "      <th>Provider Id</th>\n",
       "      <th>Provider Name</th>\n",
       "      <th>Provider Street Address</th>\n",
       "      <th>Provider City</th>\n",
       "      <th>Provider State</th>\n",
       "      <th>Provider Zip Code</th>\n",
       "      <th>Hospital Referral Region (HRR) Description</th>\n",
       "    </tr>\n",
       "  </thead>\n",
       "  <tbody>\n",
       "    <tr>\n",
       "      <th>0</th>\n",
       "      <td>10001</td>\n",
       "      <td>SOUTHEAST ALABAMA MEDICAL CENTER</td>\n",
       "      <td>1108 ROSS CLARK CIRCLE</td>\n",
       "      <td>DOTHAN</td>\n",
       "      <td>AL</td>\n",
       "      <td>36301</td>\n",
       "      <td>AL - Dothan</td>\n",
       "    </tr>\n",
       "    <tr>\n",
       "      <th>1</th>\n",
       "      <td>10005</td>\n",
       "      <td>MARSHALL MEDICAL CENTER SOUTH</td>\n",
       "      <td>2505 U S HIGHWAY 431 NORTH</td>\n",
       "      <td>BOAZ</td>\n",
       "      <td>AL</td>\n",
       "      <td>35957</td>\n",
       "      <td>AL - Birmingham</td>\n",
       "    </tr>\n",
       "    <tr>\n",
       "      <th>2</th>\n",
       "      <td>10006</td>\n",
       "      <td>ELIZA COFFEE MEMORIAL HOSPITAL</td>\n",
       "      <td>205 MARENGO STREET</td>\n",
       "      <td>FLORENCE</td>\n",
       "      <td>AL</td>\n",
       "      <td>35631</td>\n",
       "      <td>AL - Birmingham</td>\n",
       "    </tr>\n",
       "    <tr>\n",
       "      <th>3</th>\n",
       "      <td>10007</td>\n",
       "      <td>MIZELL MEMORIAL HOSPITAL</td>\n",
       "      <td>702 N MAIN ST</td>\n",
       "      <td>OPP</td>\n",
       "      <td>AL</td>\n",
       "      <td>36467</td>\n",
       "      <td>AL - Dothan</td>\n",
       "    </tr>\n",
       "  </tbody>\n",
       "</table>\n",
       "</div>"
      ],
      "text/plain": [
       "   Provider Id                     Provider Name     Provider Street Address  \\\n",
       "0        10001  SOUTHEAST ALABAMA MEDICAL CENTER      1108 ROSS CLARK CIRCLE   \n",
       "1        10005     MARSHALL MEDICAL CENTER SOUTH  2505 U S HIGHWAY 431 NORTH   \n",
       "2        10006    ELIZA COFFEE MEMORIAL HOSPITAL          205 MARENGO STREET   \n",
       "3        10007          MIZELL MEMORIAL HOSPITAL               702 N MAIN ST   \n",
       "\n",
       "  Provider City Provider State  Provider Zip Code  \\\n",
       "0        DOTHAN             AL              36301   \n",
       "1          BOAZ             AL              35957   \n",
       "2      FLORENCE             AL              35631   \n",
       "3           OPP             AL              36467   \n",
       "\n",
       "  Hospital Referral Region (HRR) Description  \n",
       "0                                AL - Dothan  \n",
       "1                            AL - Birmingham  \n",
       "2                            AL - Birmingham  \n",
       "3                                AL - Dothan  "
      ]
     },
     "execution_count": 3,
     "metadata": {},
     "output_type": "execute_result"
    }
   ],
   "source": [
    "data2 = pd.read_excel(r'C:\\Users\\Sourav\\OneDrive\\Desktop\\Healthcare Data Analysis project/Medicare Inpatient 2017.xlsx',sheet_name = 'Providers')\n",
    "data2.head(4)"
   ]
  },
  {
   "cell_type": "code",
   "execution_count": 4,
   "metadata": {
    "scrolled": true
   },
   "outputs": [],
   "source": [
    "df = pd.merge(data1,data2,on='Provider Id')"
   ]
  },
  {
   "cell_type": "code",
   "execution_count": 5,
   "metadata": {
    "scrolled": true
   },
   "outputs": [
    {
     "data": {
      "text/html": [
       "<div>\n",
       "<style scoped>\n",
       "    .dataframe tbody tr th:only-of-type {\n",
       "        vertical-align: middle;\n",
       "    }\n",
       "\n",
       "    .dataframe tbody tr th {\n",
       "        vertical-align: top;\n",
       "    }\n",
       "\n",
       "    .dataframe thead th {\n",
       "        text-align: right;\n",
       "    }\n",
       "</style>\n",
       "<table border=\"1\" class=\"dataframe\">\n",
       "  <thead>\n",
       "    <tr style=\"text-align: right;\">\n",
       "      <th></th>\n",
       "      <th>DRG Definition</th>\n",
       "      <th>Provider Id</th>\n",
       "      <th>Total Discharges</th>\n",
       "      <th>Average Covered Charges</th>\n",
       "      <th>Average Total Payments</th>\n",
       "      <th>Average Medicare Payments</th>\n",
       "      <th>Provider Name</th>\n",
       "      <th>Provider Street Address</th>\n",
       "      <th>Provider City</th>\n",
       "      <th>Provider State</th>\n",
       "      <th>Provider Zip Code</th>\n",
       "      <th>Hospital Referral Region (HRR) Description</th>\n",
       "    </tr>\n",
       "  </thead>\n",
       "  <tbody>\n",
       "    <tr>\n",
       "      <th>0</th>\n",
       "      <td>023 - CRANIOTOMY W MAJOR DEVICE IMPLANT OR ACU...</td>\n",
       "      <td>10001</td>\n",
       "      <td>28</td>\n",
       "      <td>117117.78570</td>\n",
       "      <td>25823.71429</td>\n",
       "      <td>24057.392860</td>\n",
       "      <td>SOUTHEAST ALABAMA MEDICAL CENTER</td>\n",
       "      <td>1108 ROSS CLARK CIRCLE</td>\n",
       "      <td>DOTHAN</td>\n",
       "      <td>AL</td>\n",
       "      <td>36301</td>\n",
       "      <td>AL - Dothan</td>\n",
       "    </tr>\n",
       "    <tr>\n",
       "      <th>1</th>\n",
       "      <td>025 - CRANIOTOMY &amp; ENDOVASCULAR INTRACRANIAL P...</td>\n",
       "      <td>10001</td>\n",
       "      <td>32</td>\n",
       "      <td>98357.56250</td>\n",
       "      <td>20688.34375</td>\n",
       "      <td>19791.406250</td>\n",
       "      <td>SOUTHEAST ALABAMA MEDICAL CENTER</td>\n",
       "      <td>1108 ROSS CLARK CIRCLE</td>\n",
       "      <td>DOTHAN</td>\n",
       "      <td>AL</td>\n",
       "      <td>36301</td>\n",
       "      <td>AL - Dothan</td>\n",
       "    </tr>\n",
       "    <tr>\n",
       "      <th>2</th>\n",
       "      <td>027 - CRANIOTOMY &amp; ENDOVASCULAR INTRACRANIAL P...</td>\n",
       "      <td>10001</td>\n",
       "      <td>11</td>\n",
       "      <td>69153.54546</td>\n",
       "      <td>11811.18182</td>\n",
       "      <td>8194.363636</td>\n",
       "      <td>SOUTHEAST ALABAMA MEDICAL CENTER</td>\n",
       "      <td>1108 ROSS CLARK CIRCLE</td>\n",
       "      <td>DOTHAN</td>\n",
       "      <td>AL</td>\n",
       "      <td>36301</td>\n",
       "      <td>AL - Dothan</td>\n",
       "    </tr>\n",
       "  </tbody>\n",
       "</table>\n",
       "</div>"
      ],
      "text/plain": [
       "                                      DRG Definition  Provider Id  \\\n",
       "0  023 - CRANIOTOMY W MAJOR DEVICE IMPLANT OR ACU...        10001   \n",
       "1  025 - CRANIOTOMY & ENDOVASCULAR INTRACRANIAL P...        10001   \n",
       "2  027 - CRANIOTOMY & ENDOVASCULAR INTRACRANIAL P...        10001   \n",
       "\n",
       "   Total Discharges  Average Covered Charges  Average Total Payments  \\\n",
       "0                28             117117.78570             25823.71429   \n",
       "1                32              98357.56250             20688.34375   \n",
       "2                11              69153.54546             11811.18182   \n",
       "\n",
       "   Average Medicare Payments                     Provider Name  \\\n",
       "0               24057.392860  SOUTHEAST ALABAMA MEDICAL CENTER   \n",
       "1               19791.406250  SOUTHEAST ALABAMA MEDICAL CENTER   \n",
       "2                8194.363636  SOUTHEAST ALABAMA MEDICAL CENTER   \n",
       "\n",
       "  Provider Street Address Provider City Provider State  Provider Zip Code  \\\n",
       "0  1108 ROSS CLARK CIRCLE        DOTHAN             AL              36301   \n",
       "1  1108 ROSS CLARK CIRCLE        DOTHAN             AL              36301   \n",
       "2  1108 ROSS CLARK CIRCLE        DOTHAN             AL              36301   \n",
       "\n",
       "  Hospital Referral Region (HRR) Description  \n",
       "0                                AL - Dothan  \n",
       "1                                AL - Dothan  \n",
       "2                                AL - Dothan  "
      ]
     },
     "execution_count": 5,
     "metadata": {},
     "output_type": "execute_result"
    }
   ],
   "source": [
    "df.head(3)"
   ]
  },
  {
   "cell_type": "code",
   "execution_count": 6,
   "metadata": {
    "scrolled": true
   },
   "outputs": [
    {
     "data": {
      "text/html": [
       "<div>\n",
       "<style scoped>\n",
       "    .dataframe tbody tr th:only-of-type {\n",
       "        vertical-align: middle;\n",
       "    }\n",
       "\n",
       "    .dataframe tbody tr th {\n",
       "        vertical-align: top;\n",
       "    }\n",
       "\n",
       "    .dataframe thead th {\n",
       "        text-align: right;\n",
       "    }\n",
       "</style>\n",
       "<table border=\"1\" class=\"dataframe\">\n",
       "  <thead>\n",
       "    <tr style=\"text-align: right;\">\n",
       "      <th></th>\n",
       "      <th>count</th>\n",
       "      <th>mean</th>\n",
       "      <th>std</th>\n",
       "      <th>min</th>\n",
       "      <th>25%</th>\n",
       "      <th>50%</th>\n",
       "      <th>75%</th>\n",
       "      <th>max</th>\n",
       "    </tr>\n",
       "  </thead>\n",
       "  <tbody>\n",
       "    <tr>\n",
       "      <th>Provider Id</th>\n",
       "      <td>196325.0</td>\n",
       "      <td>256061.085690</td>\n",
       "      <td>151405.498703</td>\n",
       "      <td>10001.000000</td>\n",
       "      <td>110076.000000</td>\n",
       "      <td>240115.000000</td>\n",
       "      <td>380040.00000</td>\n",
       "      <td>6.701220e+05</td>\n",
       "    </tr>\n",
       "    <tr>\n",
       "      <th>Total Discharges</th>\n",
       "      <td>196325.0</td>\n",
       "      <td>37.604421</td>\n",
       "      <td>57.259325</td>\n",
       "      <td>11.000000</td>\n",
       "      <td>14.000000</td>\n",
       "      <td>21.000000</td>\n",
       "      <td>39.00000</td>\n",
       "      <td>4.255000e+03</td>\n",
       "    </tr>\n",
       "    <tr>\n",
       "      <th>Average Covered Charges</th>\n",
       "      <td>196325.0</td>\n",
       "      <td>61166.151208</td>\n",
       "      <td>73014.115449</td>\n",
       "      <td>2644.777778</td>\n",
       "      <td>24123.140350</td>\n",
       "      <td>40121.523810</td>\n",
       "      <td>70908.55556</td>\n",
       "      <td>3.325523e+06</td>\n",
       "    </tr>\n",
       "    <tr>\n",
       "      <th>Average Total Payments</th>\n",
       "      <td>196325.0</td>\n",
       "      <td>13978.194700</td>\n",
       "      <td>14800.590340</td>\n",
       "      <td>2497.888889</td>\n",
       "      <td>6509.441558</td>\n",
       "      <td>9658.380952</td>\n",
       "      <td>15496.27273</td>\n",
       "      <td>5.157067e+05</td>\n",
       "    </tr>\n",
       "    <tr>\n",
       "      <th>Average Medicare Payments</th>\n",
       "      <td>196325.0</td>\n",
       "      <td>11816.235001</td>\n",
       "      <td>13230.938068</td>\n",
       "      <td>0.000000</td>\n",
       "      <td>5133.818182</td>\n",
       "      <td>8041.960784</td>\n",
       "      <td>13089.96875</td>\n",
       "      <td>4.915097e+05</td>\n",
       "    </tr>\n",
       "    <tr>\n",
       "      <th>Provider Zip Code</th>\n",
       "      <td>196325.0</td>\n",
       "      <td>47296.735790</td>\n",
       "      <td>27998.859025</td>\n",
       "      <td>1040.000000</td>\n",
       "      <td>25301.000000</td>\n",
       "      <td>44035.000000</td>\n",
       "      <td>72205.00000</td>\n",
       "      <td>9.980100e+04</td>\n",
       "    </tr>\n",
       "  </tbody>\n",
       "</table>\n",
       "</div>"
      ],
      "text/plain": [
       "                              count           mean            std  \\\n",
       "Provider Id                196325.0  256061.085690  151405.498703   \n",
       "Total Discharges           196325.0      37.604421      57.259325   \n",
       "Average Covered Charges    196325.0   61166.151208   73014.115449   \n",
       "Average Total Payments     196325.0   13978.194700   14800.590340   \n",
       "Average Medicare Payments  196325.0   11816.235001   13230.938068   \n",
       "Provider Zip Code          196325.0   47296.735790   27998.859025   \n",
       "\n",
       "                                    min            25%            50%  \\\n",
       "Provider Id                10001.000000  110076.000000  240115.000000   \n",
       "Total Discharges              11.000000      14.000000      21.000000   \n",
       "Average Covered Charges     2644.777778   24123.140350   40121.523810   \n",
       "Average Total Payments      2497.888889    6509.441558    9658.380952   \n",
       "Average Medicare Payments      0.000000    5133.818182    8041.960784   \n",
       "Provider Zip Code           1040.000000   25301.000000   44035.000000   \n",
       "\n",
       "                                    75%           max  \n",
       "Provider Id                380040.00000  6.701220e+05  \n",
       "Total Discharges               39.00000  4.255000e+03  \n",
       "Average Covered Charges     70908.55556  3.325523e+06  \n",
       "Average Total Payments      15496.27273  5.157067e+05  \n",
       "Average Medicare Payments   13089.96875  4.915097e+05  \n",
       "Provider Zip Code           72205.00000  9.980100e+04  "
      ]
     },
     "execution_count": 6,
     "metadata": {},
     "output_type": "execute_result"
    }
   ],
   "source": [
    "df.describe().T"
   ]
  },
  {
   "cell_type": "code",
   "execution_count": 7,
   "metadata": {
    "scrolled": true
   },
   "outputs": [
    {
     "data": {
      "text/plain": [
       "DRG Definition                                 object\n",
       "Provider Id                                     int64\n",
       "Total Discharges                                int64\n",
       "Average Covered Charges                       float64\n",
       "Average Total Payments                        float64\n",
       "Average Medicare Payments                     float64\n",
       "Provider Name                                  object\n",
       "Provider Street Address                        object\n",
       "Provider City                                  object\n",
       "Provider State                                 object\n",
       "Provider Zip Code                               int64\n",
       "Hospital Referral Region (HRR) Description     object\n",
       "dtype: object"
      ]
     },
     "execution_count": 7,
     "metadata": {},
     "output_type": "execute_result"
    }
   ],
   "source": [
    "df.dtypes"
   ]
  },
  {
   "cell_type": "code",
   "execution_count": 8,
   "metadata": {
    "scrolled": true
   },
   "outputs": [
    {
     "data": {
      "text/html": [
       "<div>\n",
       "<style scoped>\n",
       "    .dataframe tbody tr th:only-of-type {\n",
       "        vertical-align: middle;\n",
       "    }\n",
       "\n",
       "    .dataframe tbody tr th {\n",
       "        vertical-align: top;\n",
       "    }\n",
       "\n",
       "    .dataframe thead th {\n",
       "        text-align: right;\n",
       "    }\n",
       "</style>\n",
       "<table border=\"1\" class=\"dataframe\">\n",
       "  <thead>\n",
       "    <tr style=\"text-align: right;\">\n",
       "      <th></th>\n",
       "      <th>0</th>\n",
       "      <th>1</th>\n",
       "    </tr>\n",
       "  </thead>\n",
       "  <tbody>\n",
       "    <tr>\n",
       "      <th>0</th>\n",
       "      <td>023</td>\n",
       "      <td>CRANIOTOMY W MAJOR DEVICE IMPLANT OR ACUTE CNS...</td>\n",
       "    </tr>\n",
       "    <tr>\n",
       "      <th>1</th>\n",
       "      <td>025</td>\n",
       "      <td>CRANIOTOMY &amp; ENDOVASCULAR INTRACRANIAL PROCEDU...</td>\n",
       "    </tr>\n",
       "    <tr>\n",
       "      <th>2</th>\n",
       "      <td>027</td>\n",
       "      <td>CRANIOTOMY &amp; ENDOVASCULAR INTRACRANIAL PROCEDU...</td>\n",
       "    </tr>\n",
       "    <tr>\n",
       "      <th>3</th>\n",
       "      <td>037</td>\n",
       "      <td>EXTRACRANIAL PROCEDURES W MCC</td>\n",
       "    </tr>\n",
       "    <tr>\n",
       "      <th>4</th>\n",
       "      <td>038</td>\n",
       "      <td>EXTRACRANIAL PROCEDURES W CC</td>\n",
       "    </tr>\n",
       "    <tr>\n",
       "      <th>...</th>\n",
       "      <td>...</td>\n",
       "      <td>...</td>\n",
       "    </tr>\n",
       "    <tr>\n",
       "      <th>196320</th>\n",
       "      <td>683</td>\n",
       "      <td>RENAL FAILURE W CC</td>\n",
       "    </tr>\n",
       "    <tr>\n",
       "      <th>196321</th>\n",
       "      <td>690</td>\n",
       "      <td>KIDNEY &amp; URINARY TRACT INFECTIONS W/O MCC</td>\n",
       "    </tr>\n",
       "    <tr>\n",
       "      <th>196322</th>\n",
       "      <td>871</td>\n",
       "      <td>SEPTICEMIA OR SEVERE SEPSIS W/O MV &gt;96 HOURS W...</td>\n",
       "    </tr>\n",
       "    <tr>\n",
       "      <th>196323</th>\n",
       "      <td>470</td>\n",
       "      <td>MAJOR JOINT REPLACEMENT OR REATTACHMENT OF LOW...</td>\n",
       "    </tr>\n",
       "    <tr>\n",
       "      <th>196324</th>\n",
       "      <td>871</td>\n",
       "      <td>SEPTICEMIA OR SEVERE SEPSIS W/O MV &gt;96 HOURS W...</td>\n",
       "    </tr>\n",
       "  </tbody>\n",
       "</table>\n",
       "<p>196325 rows × 2 columns</p>\n",
       "</div>"
      ],
      "text/plain": [
       "          0                                                  1\n",
       "0       023  CRANIOTOMY W MAJOR DEVICE IMPLANT OR ACUTE CNS...\n",
       "1       025  CRANIOTOMY & ENDOVASCULAR INTRACRANIAL PROCEDU...\n",
       "2       027  CRANIOTOMY & ENDOVASCULAR INTRACRANIAL PROCEDU...\n",
       "3       037                      EXTRACRANIAL PROCEDURES W MCC\n",
       "4       038                       EXTRACRANIAL PROCEDURES W CC\n",
       "...     ...                                                ...\n",
       "196320  683                                 RENAL FAILURE W CC\n",
       "196321  690          KIDNEY & URINARY TRACT INFECTIONS W/O MCC\n",
       "196322  871  SEPTICEMIA OR SEVERE SEPSIS W/O MV >96 HOURS W...\n",
       "196323  470  MAJOR JOINT REPLACEMENT OR REATTACHMENT OF LOW...\n",
       "196324  871  SEPTICEMIA OR SEVERE SEPSIS W/O MV >96 HOURS W...\n",
       "\n",
       "[196325 rows x 2 columns]"
      ]
     },
     "execution_count": 8,
     "metadata": {},
     "output_type": "execute_result"
    }
   ],
   "source": [
    "drg_split = df['DRG Definition'].str.split(' - ',expand = True)\n",
    "drg_split"
   ]
  },
  {
   "cell_type": "code",
   "execution_count": 9,
   "metadata": {},
   "outputs": [
    {
     "data": {
      "text/plain": [
       "0         023\n",
       "1         025\n",
       "2         027\n",
       "3         037\n",
       "4         038\n",
       "         ... \n",
       "196320    683\n",
       "196321    690\n",
       "196322    871\n",
       "196323    470\n",
       "196324    871\n",
       "Name: 0, Length: 196325, dtype: object"
      ]
     },
     "execution_count": 9,
     "metadata": {},
     "output_type": "execute_result"
    }
   ],
   "source": [
    "drg_split[0]"
   ]
  },
  {
   "cell_type": "code",
   "execution_count": 10,
   "metadata": {
    "scrolled": true
   },
   "outputs": [],
   "source": [
    "df['DRG Code'] = drg_split[0]\n",
    "df['DRG Description'] = drg_split[1]"
   ]
  },
  {
   "cell_type": "code",
   "execution_count": 11,
   "metadata": {
    "scrolled": false
   },
   "outputs": [
    {
     "data": {
      "text/html": [
       "<div>\n",
       "<style scoped>\n",
       "    .dataframe tbody tr th:only-of-type {\n",
       "        vertical-align: middle;\n",
       "    }\n",
       "\n",
       "    .dataframe tbody tr th {\n",
       "        vertical-align: top;\n",
       "    }\n",
       "\n",
       "    .dataframe thead th {\n",
       "        text-align: right;\n",
       "    }\n",
       "</style>\n",
       "<table border=\"1\" class=\"dataframe\">\n",
       "  <thead>\n",
       "    <tr style=\"text-align: right;\">\n",
       "      <th></th>\n",
       "      <th>DRG Definition</th>\n",
       "      <th>Provider Id</th>\n",
       "      <th>Total Discharges</th>\n",
       "      <th>Average Covered Charges</th>\n",
       "      <th>Average Total Payments</th>\n",
       "      <th>Average Medicare Payments</th>\n",
       "      <th>Provider Name</th>\n",
       "      <th>Provider Street Address</th>\n",
       "      <th>Provider City</th>\n",
       "      <th>Provider State</th>\n",
       "      <th>Provider Zip Code</th>\n",
       "      <th>Hospital Referral Region (HRR) Description</th>\n",
       "      <th>DRG Code</th>\n",
       "      <th>DRG Description</th>\n",
       "    </tr>\n",
       "  </thead>\n",
       "  <tbody>\n",
       "    <tr>\n",
       "      <th>0</th>\n",
       "      <td>023 - CRANIOTOMY W MAJOR DEVICE IMPLANT OR ACU...</td>\n",
       "      <td>10001</td>\n",
       "      <td>28</td>\n",
       "      <td>117117.78570</td>\n",
       "      <td>25823.71429</td>\n",
       "      <td>24057.392860</td>\n",
       "      <td>SOUTHEAST ALABAMA MEDICAL CENTER</td>\n",
       "      <td>1108 ROSS CLARK CIRCLE</td>\n",
       "      <td>DOTHAN</td>\n",
       "      <td>AL</td>\n",
       "      <td>36301</td>\n",
       "      <td>AL - Dothan</td>\n",
       "      <td>023</td>\n",
       "      <td>CRANIOTOMY W MAJOR DEVICE IMPLANT OR ACUTE CNS...</td>\n",
       "    </tr>\n",
       "    <tr>\n",
       "      <th>1</th>\n",
       "      <td>025 - CRANIOTOMY &amp; ENDOVASCULAR INTRACRANIAL P...</td>\n",
       "      <td>10001</td>\n",
       "      <td>32</td>\n",
       "      <td>98357.56250</td>\n",
       "      <td>20688.34375</td>\n",
       "      <td>19791.406250</td>\n",
       "      <td>SOUTHEAST ALABAMA MEDICAL CENTER</td>\n",
       "      <td>1108 ROSS CLARK CIRCLE</td>\n",
       "      <td>DOTHAN</td>\n",
       "      <td>AL</td>\n",
       "      <td>36301</td>\n",
       "      <td>AL - Dothan</td>\n",
       "      <td>025</td>\n",
       "      <td>CRANIOTOMY &amp; ENDOVASCULAR INTRACRANIAL PROCEDU...</td>\n",
       "    </tr>\n",
       "    <tr>\n",
       "      <th>2</th>\n",
       "      <td>027 - CRANIOTOMY &amp; ENDOVASCULAR INTRACRANIAL P...</td>\n",
       "      <td>10001</td>\n",
       "      <td>11</td>\n",
       "      <td>69153.54546</td>\n",
       "      <td>11811.18182</td>\n",
       "      <td>8194.363636</td>\n",
       "      <td>SOUTHEAST ALABAMA MEDICAL CENTER</td>\n",
       "      <td>1108 ROSS CLARK CIRCLE</td>\n",
       "      <td>DOTHAN</td>\n",
       "      <td>AL</td>\n",
       "      <td>36301</td>\n",
       "      <td>AL - Dothan</td>\n",
       "      <td>027</td>\n",
       "      <td>CRANIOTOMY &amp; ENDOVASCULAR INTRACRANIAL PROCEDU...</td>\n",
       "    </tr>\n",
       "  </tbody>\n",
       "</table>\n",
       "</div>"
      ],
      "text/plain": [
       "                                      DRG Definition  Provider Id  \\\n",
       "0  023 - CRANIOTOMY W MAJOR DEVICE IMPLANT OR ACU...        10001   \n",
       "1  025 - CRANIOTOMY & ENDOVASCULAR INTRACRANIAL P...        10001   \n",
       "2  027 - CRANIOTOMY & ENDOVASCULAR INTRACRANIAL P...        10001   \n",
       "\n",
       "   Total Discharges  Average Covered Charges  Average Total Payments  \\\n",
       "0                28             117117.78570             25823.71429   \n",
       "1                32              98357.56250             20688.34375   \n",
       "2                11              69153.54546             11811.18182   \n",
       "\n",
       "   Average Medicare Payments                     Provider Name  \\\n",
       "0               24057.392860  SOUTHEAST ALABAMA MEDICAL CENTER   \n",
       "1               19791.406250  SOUTHEAST ALABAMA MEDICAL CENTER   \n",
       "2                8194.363636  SOUTHEAST ALABAMA MEDICAL CENTER   \n",
       "\n",
       "  Provider Street Address Provider City Provider State  Provider Zip Code  \\\n",
       "0  1108 ROSS CLARK CIRCLE        DOTHAN             AL              36301   \n",
       "1  1108 ROSS CLARK CIRCLE        DOTHAN             AL              36301   \n",
       "2  1108 ROSS CLARK CIRCLE        DOTHAN             AL              36301   \n",
       "\n",
       "  Hospital Referral Region (HRR) Description DRG Code  \\\n",
       "0                                AL - Dothan      023   \n",
       "1                                AL - Dothan      025   \n",
       "2                                AL - Dothan      027   \n",
       "\n",
       "                                     DRG Description  \n",
       "0  CRANIOTOMY W MAJOR DEVICE IMPLANT OR ACUTE CNS...  \n",
       "1  CRANIOTOMY & ENDOVASCULAR INTRACRANIAL PROCEDU...  \n",
       "2  CRANIOTOMY & ENDOVASCULAR INTRACRANIAL PROCEDU...  "
      ]
     },
     "execution_count": 11,
     "metadata": {},
     "output_type": "execute_result"
    }
   ],
   "source": [
    "df.head(3)"
   ]
  },
  {
   "cell_type": "code",
   "execution_count": 12,
   "metadata": {
    "scrolled": true
   },
   "outputs": [
    {
     "data": {
      "text/plain": [
       "<AxesSubplot:xlabel='Provider State'>"
      ]
     },
     "execution_count": 12,
     "metadata": {},
     "output_type": "execute_result"
    },
    {
     "data": {
      "image/png": "[encoded data removed]",
      "text/plain": [
       "<Figure size 720x288 with 1 Axes>"
      ]
     },
     "metadata": {
      "needs_background": "light"
     },
     "output_type": "display_data"
    }
   ],
   "source": [
    "#States ranked by highest average hospital charges\n",
    "\n",
    "av_charges_state = df.groupby('Provider State').mean()['Average Covered Charges']\n",
    "av_charges_state.sort_values(ascending = False).head(10).round(2).plot.bar(figsize=(10,4))"
   ]
  },
  {
   "cell_type": "code",
   "execution_count": 13,
   "metadata": {
    "scrolled": true
   },
   "outputs": [
    {
     "data": {
      "text/plain": [
       "<AxesSubplot:xlabel='Provider State'>"
      ]
     },
     "execution_count": 13,
     "metadata": {},
     "output_type": "execute_result"
    },
    {
     "data": {
      "image/png": "[encoded data removed]",
      "text/plain": [
       "<Figure size 720x288 with 1 Axes>"
      ]
     },
     "metadata": {
      "needs_background": "light"
     },
     "output_type": "display_data"
    }
   ],
   "source": [
    "#States ranked by highest average Medicare payments\n",
    "\n",
    "av_payments_state = df.groupby('Provider State').mean()['Average Medicare Payments']\n",
    "av_payments_state.sort_values(ascending = False).head(10).round(2).plot.bar(figsize=(10,4))"
   ]
  },
  {
   "cell_type": "code",
   "execution_count": 14,
   "metadata": {
    "scrolled": true
   },
   "outputs": [
    {
     "data": {
      "text/plain": [
       "DRG Description\n",
       "SEPTICEMIA OR SEVERE SEPSIS W/O MV >96 HOURS W MCC                    597736\n",
       "MAJOR JOINT REPLACEMENT OR REATTACHMENT OF LOWER EXTREMITY W/O MCC    510632\n",
       "HEART FAILURE & SHOCK W MCC                                           359442\n",
       "CHRONIC OBSTRUCTIVE PULMONARY DISEASE W MCC                           215525\n",
       "PULMONARY EDEMA & RESPIRATORY FAILURE                                 165613\n",
       "SEPTICEMIA OR SEVERE SEPSIS W/O MV >96 HOURS W/O MCC                  157851\n",
       "ESOPHAGITIS, GASTROENT & MISC DIGEST DISORDERS W/O MCC                155843\n",
       "KIDNEY & URINARY TRACT INFECTIONS W/O MCC                             138497\n",
       "RENAL FAILURE W CC                                                    134011\n",
       "G.I. HEMORRHAGE W CC                                                  131163\n",
       "Name: Total Discharges, dtype: int64"
      ]
     },
     "execution_count": 14,
     "metadata": {},
     "output_type": "execute_result"
    }
   ],
   "source": [
    "#Most common hospital discharges\n",
    "\n",
    "df.groupby('DRG Description').sum()['Total Discharges'].sort_values(ascending = False).head(10)"
   ]
  },
  {
   "cell_type": "code",
   "execution_count": 15,
   "metadata": {
    "scrolled": true
   },
   "outputs": [
    {
     "data": {
      "text/plain": [
       "DRG Description\n",
       "HEART TRANSPLANT OR IMPLANT OF HEART ASSIST SYSTEM W MCC               1.032058e+06\n",
       "LUNG TRANSPLANT                                                        6.122821e+05\n",
       "ECMO OR TRACH W MV >96 HRS OR PDX EXC FACE, MOUTH & NECK W MAJ O.R.    6.061637e+05\n",
       "LIVER TRANSPLANT W MCC OR INTESTINAL TRANSPLANT                        5.512770e+05\n",
       "ALLOGENEIC BONE MARROW TRANSPLANT                                      4.017339e+05\n",
       "SPINAL FUS EXC CERV W SPINAL CURV/MALIG/INFEC OR EXT FUS W MCC         3.934285e+05\n",
       "COMBINED ANTERIOR/POSTERIOR SPINAL FUSION W MCC                        3.768284e+05\n",
       "CARDIAC DEFIB IMPLANT W CARDIAC CATH W AMI/HF/SHOCK W MCC              3.760350e+05\n",
       "TRACH W MV >96 HRS OR PDX EXC FACE, MOUTH & NECK W/O MAJ O.R.          3.630658e+05\n",
       "SIMULTANEOUS PANCREAS/KIDNEY TRANSPLANT                                3.612517e+05\n",
       "Name: Average Covered Charges, dtype: float64"
      ]
     },
     "execution_count": 15,
     "metadata": {},
     "output_type": "execute_result"
    }
   ],
   "source": [
    "#Ten most expensive Medicare medical conditions treated in hospitals\n",
    "\n",
    "df.groupby('DRG Description').mean()['Average Covered Charges'].sort_values(ascending = False).head(10)"
   ]
  },
  {
   "cell_type": "code",
   "execution_count": 55,
   "metadata": {},
   "outputs": [
    {
     "data": {
      "text/html": [
       "<div>\n",
       "<style scoped>\n",
       "    .dataframe tbody tr th:only-of-type {\n",
       "        vertical-align: middle;\n",
       "    }\n",
       "\n",
       "    .dataframe tbody tr th {\n",
       "        vertical-align: top;\n",
       "    }\n",
       "\n",
       "    .dataframe thead th {\n",
       "        text-align: right;\n",
       "    }\n",
       "</style>\n",
       "<table border=\"1\" class=\"dataframe\">\n",
       "  <thead>\n",
       "    <tr style=\"text-align: right;\">\n",
       "      <th></th>\n",
       "      <th>DRG Definition</th>\n",
       "      <th>Provider Id</th>\n",
       "      <th>Total Discharges</th>\n",
       "      <th>Average Covered Charges</th>\n",
       "      <th>Average Total Payments</th>\n",
       "      <th>Average Medicare Payments</th>\n",
       "      <th>Provider Name</th>\n",
       "      <th>Provider Street Address</th>\n",
       "      <th>Provider City</th>\n",
       "      <th>Provider State</th>\n",
       "      <th>Provider Zip Code</th>\n",
       "      <th>Hospital Referral Region (HRR) Description</th>\n",
       "      <th>DRG Code</th>\n",
       "      <th>DRG Description</th>\n",
       "    </tr>\n",
       "  </thead>\n",
       "  <tbody>\n",
       "    <tr>\n",
       "      <th>937</th>\n",
       "      <td>001 - HEART TRANSPLANT OR IMPLANT OF HEART ASS...</td>\n",
       "      <td>10033</td>\n",
       "      <td>13</td>\n",
       "      <td>901043.8462</td>\n",
       "      <td>273737.2308</td>\n",
       "      <td>121763.3077</td>\n",
       "      <td>UNIVERSITY OF ALABAMA HOSPITAL</td>\n",
       "      <td>619 SOUTH 19TH STREET</td>\n",
       "      <td>BIRMINGHAM</td>\n",
       "      <td>AL</td>\n",
       "      <td>35233</td>\n",
       "      <td>AL - Birmingham</td>\n",
       "      <td>001</td>\n",
       "      <td>HEART TRANSPLANT OR IMPLANT OF HEART ASSIST SY...</td>\n",
       "    </tr>\n",
       "    <tr>\n",
       "      <th>6863</th>\n",
       "      <td>001 - HEART TRANSPLANT OR IMPLANT OF HEART ASS...</td>\n",
       "      <td>30103</td>\n",
       "      <td>19</td>\n",
       "      <td>463703.5790</td>\n",
       "      <td>226998.6316</td>\n",
       "      <td>164459.6842</td>\n",
       "      <td>MAYO CLINIC HOSPITAL</td>\n",
       "      <td>5777 EAST MAYO BOULEVARD</td>\n",
       "      <td>PHOENIX</td>\n",
       "      <td>AZ</td>\n",
       "      <td>85054</td>\n",
       "      <td>AZ - Phoenix</td>\n",
       "      <td>001</td>\n",
       "      <td>HEART TRANSPLANT OR IMPLANT OF HEART ASSIST SY...</td>\n",
       "    </tr>\n",
       "    <tr>\n",
       "      <th>9563</th>\n",
       "      <td>001 - HEART TRANSPLANT OR IMPLANT OF HEART ASS...</td>\n",
       "      <td>40114</td>\n",
       "      <td>34</td>\n",
       "      <td>744050.0882</td>\n",
       "      <td>162530.1177</td>\n",
       "      <td>160234.8824</td>\n",
       "      <td>BAPTIST HEALTH MEDICAL CENTER-LITTLE ROCK</td>\n",
       "      <td>9601 INTERSTATE 630, EXIT 7</td>\n",
       "      <td>LITTLE ROCK</td>\n",
       "      <td>AR</td>\n",
       "      <td>72205</td>\n",
       "      <td>AR - Little Rock</td>\n",
       "      <td>001</td>\n",
       "      <td>HEART TRANSPLANT OR IMPLANT OF HEART ASSIST SY...</td>\n",
       "    </tr>\n",
       "  </tbody>\n",
       "</table>\n",
       "</div>"
      ],
      "text/plain": [
       "                                         DRG Definition  Provider Id  \\\n",
       "937   001 - HEART TRANSPLANT OR IMPLANT OF HEART ASS...        10033   \n",
       "6863  001 - HEART TRANSPLANT OR IMPLANT OF HEART ASS...        30103   \n",
       "9563  001 - HEART TRANSPLANT OR IMPLANT OF HEART ASS...        40114   \n",
       "\n",
       "      Total Discharges  Average Covered Charges  Average Total Payments  \\\n",
       "937                 13              901043.8462             273737.2308   \n",
       "6863                19              463703.5790             226998.6316   \n",
       "9563                34              744050.0882             162530.1177   \n",
       "\n",
       "      Average Medicare Payments                              Provider Name  \\\n",
       "937                 121763.3077             UNIVERSITY OF ALABAMA HOSPITAL   \n",
       "6863                164459.6842                       MAYO CLINIC HOSPITAL   \n",
       "9563                160234.8824  BAPTIST HEALTH MEDICAL CENTER-LITTLE ROCK   \n",
       "\n",
       "          Provider Street Address Provider City Provider State  \\\n",
       "937         619 SOUTH 19TH STREET    BIRMINGHAM             AL   \n",
       "6863     5777 EAST MAYO BOULEVARD       PHOENIX             AZ   \n",
       "9563  9601 INTERSTATE 630, EXIT 7   LITTLE ROCK             AR   \n",
       "\n",
       "      Provider Zip Code Hospital Referral Region (HRR) Description DRG Code  \\\n",
       "937               35233                            AL - Birmingham      001   \n",
       "6863              85054                               AZ - Phoenix      001   \n",
       "9563              72205                           AR - Little Rock      001   \n",
       "\n",
       "                                        DRG Description  \n",
       "937   HEART TRANSPLANT OR IMPLANT OF HEART ASSIST SY...  \n",
       "6863  HEART TRANSPLANT OR IMPLANT OF HEART ASSIST SY...  \n",
       "9563  HEART TRANSPLANT OR IMPLANT OF HEART ASSIST SY...  "
      ]
     },
     "execution_count": 55,
     "metadata": {},
     "output_type": "execute_result"
    }
   ],
   "source": [
    "#Variation of medicare payments for heart implant or implant of heart assist system surgery\n",
    "\n",
    "grouped = df[df['DRG Description'] == 'HEART TRANSPLANT OR IMPLANT OF HEART ASSIST SYSTEM W MCC']\n",
    "grouped.head(3)"
   ]
  },
  {
   "cell_type": "code",
   "execution_count": 80,
   "metadata": {},
   "outputs": [
    {
     "data": {
      "text/html": [
       "<div>\n",
       "<style scoped>\n",
       "    .dataframe tbody tr th:only-of-type {\n",
       "        vertical-align: middle;\n",
       "    }\n",
       "\n",
       "    .dataframe tbody tr th {\n",
       "        vertical-align: top;\n",
       "    }\n",
       "\n",
       "    .dataframe thead th {\n",
       "        text-align: right;\n",
       "    }\n",
       "</style>\n",
       "<table border=\"1\" class=\"dataframe\">\n",
       "  <thead>\n",
       "    <tr style=\"text-align: right;\">\n",
       "      <th></th>\n",
       "      <th>Min. medicare payment</th>\n",
       "      <th>Max. medicare payment</th>\n",
       "      <th>Medicare Pay Diff</th>\n",
       "    </tr>\n",
       "    <tr>\n",
       "      <th>Provider State</th>\n",
       "      <th></th>\n",
       "      <th></th>\n",
       "      <th></th>\n",
       "    </tr>\n",
       "  </thead>\n",
       "  <tbody>\n",
       "    <tr>\n",
       "      <th>CA</th>\n",
       "      <td>216492.8462</td>\n",
       "      <td>491509.6774</td>\n",
       "      <td>275016.8312</td>\n",
       "    </tr>\n",
       "    <tr>\n",
       "      <th>NY</th>\n",
       "      <td>195809.3929</td>\n",
       "      <td>409049.7059</td>\n",
       "      <td>213240.3130</td>\n",
       "    </tr>\n",
       "    <tr>\n",
       "      <th>FL</th>\n",
       "      <td>166695.7273</td>\n",
       "      <td>291850.5333</td>\n",
       "      <td>125154.8060</td>\n",
       "    </tr>\n",
       "    <tr>\n",
       "      <th>TX</th>\n",
       "      <td>174752.2667</td>\n",
       "      <td>297563.2353</td>\n",
       "      <td>122810.9686</td>\n",
       "    </tr>\n",
       "    <tr>\n",
       "      <th>PA</th>\n",
       "      <td>178909.4286</td>\n",
       "      <td>273023.6111</td>\n",
       "      <td>94114.1825</td>\n",
       "    </tr>\n",
       "    <tr>\n",
       "      <th>IL</th>\n",
       "      <td>211519.3125</td>\n",
       "      <td>294862.8438</td>\n",
       "      <td>83343.5313</td>\n",
       "    </tr>\n",
       "    <tr>\n",
       "      <th>VA</th>\n",
       "      <td>176552.8571</td>\n",
       "      <td>249688.7222</td>\n",
       "      <td>73135.8651</td>\n",
       "    </tr>\n",
       "    <tr>\n",
       "      <th>NC</th>\n",
       "      <td>180447.0000</td>\n",
       "      <td>229434.7059</td>\n",
       "      <td>48987.7059</td>\n",
       "    </tr>\n",
       "    <tr>\n",
       "      <th>OH</th>\n",
       "      <td>198105.0909</td>\n",
       "      <td>241805.6875</td>\n",
       "      <td>43700.5966</td>\n",
       "    </tr>\n",
       "    <tr>\n",
       "      <th>MN</th>\n",
       "      <td>227745.4348</td>\n",
       "      <td>268261.0370</td>\n",
       "      <td>40515.6022</td>\n",
       "    </tr>\n",
       "  </tbody>\n",
       "</table>\n",
       "</div>"
      ],
      "text/plain": [
       "                Min. medicare payment  Max. medicare payment  \\\n",
       "Provider State                                                 \n",
       "CA                        216492.8462            491509.6774   \n",
       "NY                        195809.3929            409049.7059   \n",
       "FL                        166695.7273            291850.5333   \n",
       "TX                        174752.2667            297563.2353   \n",
       "PA                        178909.4286            273023.6111   \n",
       "IL                        211519.3125            294862.8438   \n",
       "VA                        176552.8571            249688.7222   \n",
       "NC                        180447.0000            229434.7059   \n",
       "OH                        198105.0909            241805.6875   \n",
       "MN                        227745.4348            268261.0370   \n",
       "\n",
       "                Medicare Pay Diff  \n",
       "Provider State                     \n",
       "CA                    275016.8312  \n",
       "NY                    213240.3130  \n",
       "FL                    125154.8060  \n",
       "TX                    122810.9686  \n",
       "PA                     94114.1825  \n",
       "IL                     83343.5313  \n",
       "VA                     73135.8651  \n",
       "NC                     48987.7059  \n",
       "OH                     43700.5966  \n",
       "MN                     40515.6022  "
      ]
     },
     "execution_count": 80,
     "metadata": {},
     "output_type": "execute_result"
    }
   ],
   "source": [
    "grouped_min = grouped.groupby('Provider State').min()[['Average Medicare Payments']]\n",
    "grouped_max = grouped.groupby('Provider State').max()[['Average Medicare Payments']]\n",
    "grouped_combine = pd.merge(grouped_min,grouped_max, on = 'Provider State')\n",
    "grouped_combine.columns = ['Min. medicare payment','Max. medicare payment']\n",
    "\n",
    "grouped_combine['Medicare Pay Diff'] = grouped_combine['Max. medicare payment'] - grouped_combine['Min. medicare payment']\n",
    "grouped_combine.sort_values(by = 'Medicare Pay Diff', ascending = False).head(10)"
   ]
  },
  {
   "cell_type": "code",
   "execution_count": 82,
   "metadata": {},
   "outputs": [
    {
     "data": {
      "text/html": [
       "<div>\n",
       "<style scoped>\n",
       "    .dataframe tbody tr th:only-of-type {\n",
       "        vertical-align: middle;\n",
       "    }\n",
       "\n",
       "    .dataframe tbody tr th {\n",
       "        vertical-align: top;\n",
       "    }\n",
       "\n",
       "    .dataframe thead th {\n",
       "        text-align: right;\n",
       "    }\n",
       "</style>\n",
       "<table border=\"1\" class=\"dataframe\">\n",
       "  <thead>\n",
       "    <tr style=\"text-align: right;\">\n",
       "      <th></th>\n",
       "      <th>Average Covered Charges</th>\n",
       "      <th>Average Medicare Payments</th>\n",
       "      <th>Charges to payment ratio</th>\n",
       "    </tr>\n",
       "    <tr>\n",
       "      <th>Provider State</th>\n",
       "      <th></th>\n",
       "      <th></th>\n",
       "      <th></th>\n",
       "    </tr>\n",
       "  </thead>\n",
       "  <tbody>\n",
       "    <tr>\n",
       "      <th>NV</th>\n",
       "      <td>100019.046115</td>\n",
       "      <td>12379.644455</td>\n",
       "      <td>8.079315</td>\n",
       "    </tr>\n",
       "    <tr>\n",
       "      <th>FL</th>\n",
       "      <td>76246.905777</td>\n",
       "      <td>10058.557887</td>\n",
       "      <td>7.580302</td>\n",
       "    </tr>\n",
       "    <tr>\n",
       "      <th>NJ</th>\n",
       "      <td>89597.930693</td>\n",
       "      <td>12579.441416</td>\n",
       "      <td>7.122568</td>\n",
       "    </tr>\n",
       "    <tr>\n",
       "      <th>TX</th>\n",
       "      <td>71748.631495</td>\n",
       "      <td>10635.212033</td>\n",
       "      <td>6.746328</td>\n",
       "    </tr>\n",
       "    <tr>\n",
       "      <th>CA</th>\n",
       "      <td>106406.986129</td>\n",
       "      <td>16207.739145</td>\n",
       "      <td>6.565196</td>\n",
       "    </tr>\n",
       "    <tr>\n",
       "      <th>CO</th>\n",
       "      <td>81883.652141</td>\n",
       "      <td>12584.928794</td>\n",
       "      <td>6.506485</td>\n",
       "    </tr>\n",
       "    <tr>\n",
       "      <th>PA</th>\n",
       "      <td>69332.765453</td>\n",
       "      <td>10922.258484</td>\n",
       "      <td>6.347841</td>\n",
       "    </tr>\n",
       "    <tr>\n",
       "      <th>AL</th>\n",
       "      <td>54725.169047</td>\n",
       "      <td>8706.915487</td>\n",
       "      <td>6.285253</td>\n",
       "    </tr>\n",
       "    <tr>\n",
       "      <th>SC</th>\n",
       "      <td>60684.470740</td>\n",
       "      <td>10361.162609</td>\n",
       "      <td>5.856917</td>\n",
       "    </tr>\n",
       "    <tr>\n",
       "      <th>KS</th>\n",
       "      <td>57975.538741</td>\n",
       "      <td>10342.061329</td>\n",
       "      <td>5.605801</td>\n",
       "    </tr>\n",
       "  </tbody>\n",
       "</table>\n",
       "</div>"
      ],
      "text/plain": [
       "                Average Covered Charges  Average Medicare Payments  \\\n",
       "Provider State                                                       \n",
       "NV                        100019.046115               12379.644455   \n",
       "FL                         76246.905777               10058.557887   \n",
       "NJ                         89597.930693               12579.441416   \n",
       "TX                         71748.631495               10635.212033   \n",
       "CA                        106406.986129               16207.739145   \n",
       "CO                         81883.652141               12584.928794   \n",
       "PA                         69332.765453               10922.258484   \n",
       "AL                         54725.169047                8706.915487   \n",
       "SC                         60684.470740               10361.162609   \n",
       "KS                         57975.538741               10342.061329   \n",
       "\n",
       "                Charges to payment ratio  \n",
       "Provider State                            \n",
       "NV                              8.079315  \n",
       "FL                              7.580302  \n",
       "NJ                              7.122568  \n",
       "TX                              6.746328  \n",
       "CA                              6.565196  \n",
       "CO                              6.506485  \n",
       "PA                              6.347841  \n",
       "AL                              6.285253  \n",
       "SC                              5.856917  \n",
       "KS                              5.605801  "
      ]
     },
     "execution_count": 82,
     "metadata": {},
     "output_type": "execute_result"
    }
   ],
   "source": [
    "#Charges and reimbursement rates (payment) relation\n",
    "\n",
    "ratio = df.groupby('Provider State').mean()[['Average Covered Charges','Average Medicare Payments']].sort_values(\n",
    "    by='Average Covered Charges' ,ascending = False)\n",
    "\n",
    "ratio['Charges to payment ratio'] = ratio['Average Covered Charges']/ratio['Average Medicare Payments']\n",
    "\n",
    "ratio.sort_values(by='Charges to payment ratio' ,ascending = False).head(10)"
   ]
  },
  {
   "cell_type": "code",
   "execution_count": 33,
   "metadata": {},
   "outputs": [
    {
     "data": {
      "text/plain": [
       "4.626262476836806"
      ]
     },
     "execution_count": 33,
     "metadata": {},
     "output_type": "execute_result"
    }
   ],
   "source": [
    "#Average charges to payment ratio\n",
    "\n",
    "ratio['Charges to payment ratio'].mean(axis = 0)"
   ]
  },
  {
   "cell_type": "code",
   "execution_count": 17,
   "metadata": {
    "scrolled": true
   },
   "outputs": [
    {
     "data": {
      "text/plain": [
       "<AxesSubplot:>"
      ]
     },
     "execution_count": 17,
     "metadata": {},
     "output_type": "execute_result"
    },
    {
     "data": {
      "image/png": "[encoded data removed]",
      "text/plain": [
       "<Figure size 432x288 with 2 Axes>"
      ]
     },
     "metadata": {
      "needs_background": "light"
     },
     "output_type": "display_data"
    }
   ],
   "source": [
    "#Correlation \n",
    "\n",
    "sns.heatmap(df.corr(),annot=True,linewidths=1)\n",
    "\n",
    "# High correlations between Average Coverage Charges and Average Medicare Payments"
   ]
  },
  {
   "cell_type": "code",
   "execution_count": null,
   "metadata": {
    "scrolled": true
   },
   "outputs": [],
   "source": []
  },
  {
   "cell_type": "code",
   "execution_count": null,
   "metadata": {
    "scrolled": true
   },
   "outputs": [],
   "source": []
  },
  {
   "cell_type": "code",
   "execution_count": null,
   "metadata": {
    "scrolled": true
   },
   "outputs": [],
   "source": []
  },
  {
   "cell_type": "code",
   "execution_count": null,
   "metadata": {
    "scrolled": true
   },
   "outputs": [],
   "source": []
  },
  {
   "cell_type": "code",
   "execution_count": null,
   "metadata": {
    "scrolled": true
   },
   "outputs": [],
   "source": []
  },
  {
   "cell_type": "code",
   "execution_count": null,
   "metadata": {
    "scrolled": true
   },
   "outputs": [],
   "source": []
  },
  {
   "cell_type": "code",
   "execution_count": null,
   "metadata": {
    "scrolled": true
   },
   "outputs": [],
   "source": []
  },
  {
   "cell_type": "code",
   "execution_count": null,
   "metadata": {
    "scrolled": true
   },
   "outputs": [],
   "source": []
  },
  {
   "cell_type": "code",
   "execution_count": null,
   "metadata": {
    "scrolled": true
   },
   "outputs": [],
   "source": []
  },
  {
   "cell_type": "code",
   "execution_count": null,
   "metadata": {
    "scrolled": true
   },
   "outputs": [],
   "source": []
  },
  {
   "cell_type": "code",
   "execution_count": null,
   "metadata": {
    "scrolled": true
   },
   "outputs": [],
   "source": []
  }
 ],
 "metadata": {
  "kernelspec": {
   "display_name": "Python 3",
   "language": "python",
   "name": "python3"
  },
  "language_info": {
   "codemirror_mode": {
    "name": "ipython",
    "version": 3
   },
   "file_extension": ".py",
   "mimetype": "text/x-python",
   "name": "python",
   "nbconvert_exporter": "python",
   "pygments_lexer": "ipython3",
   "version": "3.8.5"
  }
 },
 "nbformat": 4,
 "nbformat_minor": 4
}
